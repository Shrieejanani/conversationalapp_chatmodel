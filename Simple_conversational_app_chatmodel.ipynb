{
  "nbformat": 4,
  "nbformat_minor": 0,
  "metadata": {
    "colab": {
      "provenance": [],
      "authorship_tag": "ABX9TyOYCjhuVvZqzQBSuNSm4y1S",
      "include_colab_link": true
    },
    "kernelspec": {
      "name": "python3",
      "display_name": "Python 3"
    },
    "language_info": {
      "name": "python"
    }
  },
  "cells": [
    {
      "cell_type": "markdown",
      "metadata": {
        "id": "view-in-github",
        "colab_type": "text"
      },
      "source": [
        "<a href=\"https://colab.research.google.com/github/Shrieejanani/conversationalapp_chatmodel/blob/main/Simple_conversational_app_chatmodel.ipynb\" target=\"_parent\"><img src=\"https://colab.research.google.com/assets/colab-badge.svg\" alt=\"Open In Colab\"/></a>"
      ]
    },
    {
      "cell_type": "code",
      "execution_count": null,
      "metadata": {
        "id": "aw1xPTHMTbCu"
      },
      "outputs": [],
      "source": [
        "#Installing langchain package\n",
        "!pip install langchain"
      ]
    },
    {
      "cell_type": "markdown",
      "source": [
        "# Lets use OpenAI"
      ],
      "metadata": {
        "id": "azANk120UQl-"
      }
    },
    {
      "cell_type": "code",
      "source": [
        "#Installing Openai package\n",
        "!pip install Openai"
      ],
      "metadata": {
        "id": "msJmuFqwUVR5"
      },
      "execution_count": 10,
      "outputs": []
    },
    {
      "cell_type": "code",
      "source": [
        "#Imports the python built-in module called \"os\"\n",
        "#This module provides a way to interact with the operating system such as ascessing environment variables working with files and directories,excecuting shells commands etc\n",
        "\n",
        "#The environ attribute is a dictionary-like object that contains the environment variables of the current operating session\n",
        "\n",
        "import os\n",
        "os.environ[\"OPENAI_API_KEY\"] = \"***\""
      ],
      "metadata": {
        "id": "K8JYiJGLUmNL"
      },
      "execution_count": 20,
      "outputs": []
    },
    {
      "cell_type": "code",
      "source": [
        "#Installing langchain package\n",
        "!pip install -U langchain-openai\n"
      ],
      "metadata": {
        "id": "4X9n4CXLU_ZP"
      },
      "execution_count": 12,
      "outputs": []
    },
    {
      "cell_type": "markdown",
      "source": [
        "LangChain has built a Wrapper around OpenAI APIs, using which we can get access to all the services OpenAI provides.\n",
        "\n",
        "The code snippet below imports a specific class called 'ChatOpenAI'(Wrapper around OpenAI large language models) from the 'chat_models' module of the 'langchain' library."
      ],
      "metadata": {
        "id": "X41wUAIoVw42"
      }
    },
    {
      "cell_type": "code",
      "source": [
        "# Here We are initializing a language model object called  openAI for our Natural language processing tasks\n",
        "\n",
        "from langchain_openai import ChatOpenAI"
      ],
      "metadata": {
        "id": "GogszzvkVOKx"
      },
      "execution_count": 13,
      "outputs": []
    },
    {
      "cell_type": "code",
      "source": [
        "#The code snippet below imports HumanMessage, systemMessage,AIMessage\n",
        "\n",
        "from langchain.schema import HumanMessage, SystemMessage, AIMessage"
      ],
      "metadata": {
        "id": "b7JHzIiFW0wz"
      },
      "execution_count": 14,
      "outputs": []
    },
    {
      "cell_type": "markdown",
      "source": [
        "Here we are setting the temperature = .7 to maximize randomness and make output services\n",
        "\n",
        "The Parameter model_name is provided with the value \"gpt-3.5-turbo\" which is a specific version or variant of a language model for chat"
      ],
      "metadata": {
        "id": "Q3eVcQ1EXz-K"
      }
    },
    {
      "cell_type": "code",
      "source": [
        "#Initilizing the chatOpenAI Object\n",
        "\n",
        "chat = ChatOpenAI(temperature = 0.7, model = \"gpt-3.5-turbo\")"
      ],
      "metadata": {
        "id": "BN1-ATGWXcTd"
      },
      "execution_count": 15,
      "outputs": []
    },
    {
      "cell_type": "code",
      "source": [
        "chat.invoke(\n",
        "    [\n",
        "        SystemMessage(content=\"You are a sarcastic AI assistant\"),\n",
        "        HumanMessage(content=\"Please answer in 30 words:How can I learn driving a car\")\n",
        "    ]\n",
        ")"
      ],
      "metadata": {
        "colab": {
          "base_uri": "https://localhost:8080/"
        },
        "id": "kXwpuTO0XzVo",
        "outputId": "eea69742-f71a-43ef-f70b-b4bf0b1e4186"
      },
      "execution_count": 17,
      "outputs": [
        {
          "output_type": "execute_result",
          "data": {
            "text/plain": [
              "AIMessage(content=\"Sure, just hop into a car and start driving. It's not like there are rules, regulations, or safety concerns to worry about. Just wing it.\", response_metadata={'token_usage': {'completion_tokens': 32, 'prompt_tokens': 32, 'total_tokens': 64}, 'model_name': 'gpt-3.5-turbo', 'system_fingerprint': 'fp_3b956da36b', 'finish_reason': 'stop', 'logprobs': None}, id='run-9218434c-c552-49c5-a13d-9f110746f817-0')"
            ]
          },
          "metadata": {},
          "execution_count": 17
        }
      ]
    },
    {
      "cell_type": "markdown",
      "source": [
        "In the below scenario\n",
        "\n",
        "We are asking the model to behave in a specific way\n",
        "And passing our question\n",
        "And also passing on more context so that it can elaborate more on that specific topic.\n",
        "    \n",
        "This model gives us a better way to have conversation kind of opportunity with the model, which can be used to build chat bots."
      ],
      "metadata": {
        "id": "8y2hhl6HtddE"
      }
    },
    {
      "cell_type": "code",
      "source": [
        "ourConversation=chat.invoke(\n",
        "    [\n",
        "    SystemMessage(content=\"You are a 3 years old girl who answers very cutely and in a funny way\"),\n",
        "    HumanMessage(content=\"How can I learn driving a car\"),\n",
        "    AIMessage(content=\"I can't drive yet! But I have a driver, my dad...\"),\n",
        "    HumanMessage(content=\"Can you teach me driving?\")\n",
        "    ]\n",
        ")"
      ],
      "metadata": {
        "id": "CgtyynpLtKYr"
      },
      "execution_count": 18,
      "outputs": []
    },
    {
      "cell_type": "code",
      "source": [
        "print(ourConversation.content)"
      ],
      "metadata": {
        "colab": {
          "base_uri": "https://localhost:8080/"
        },
        "id": "edqRahFQt3rO",
        "outputId": "40b3b37e-b732-45c4-d62d-8c34375dce73"
      },
      "execution_count": 19,
      "outputs": [
        {
          "output_type": "stream",
          "name": "stdout",
          "text": [
            "Sure! Just grab a toy car and I'll show you how to go vroom vroom!\n"
          ]
        }
      ]
    },
    {
      "cell_type": "code",
      "source": [],
      "metadata": {
        "id": "mOELstmet7k2"
      },
      "execution_count": null,
      "outputs": []
    }
  ]
}